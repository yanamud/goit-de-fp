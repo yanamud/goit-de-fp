{
 "cells": [
  {
   "cell_type": "markdown",
   "metadata": {
    "application/vnd.databricks.v1+cell": {
     "cellMetadata": {},
     "inputWidgets": {},
     "nuid": "b9a4e445-ab32-4b9c-a7cd-aa011a1fefdd",
     "showTitle": false,
     "tableResultSettingsMap": {},
     "title": ""
    }
   },
   "source": [
    "#Зчитати таблиці з папки silver"
   ]
  },
  {
   "cell_type": "code",
   "execution_count": 0,
   "metadata": {
    "application/vnd.databricks.v1+cell": {
     "cellMetadata": {
      "byteLimit": 2048000,
      "rowLimit": 10000
     },
     "inputWidgets": {},
     "nuid": "aa4f6189-dff0-4b75-930f-29be1bb1a367",
     "showTitle": false,
     "tableResultSettingsMap": {},
     "title": ""
    }
   },
   "outputs": [],
   "source": [
    "import os\n",
    "\n",
    "# Функція для створення директорії\n",
    "def ensure_dir_exists(path):\n",
    "    os.makedirs(path, exist_ok=True)"
   ]
  },
  {
   "cell_type": "code",
   "execution_count": 0,
   "metadata": {
    "application/vnd.databricks.v1+cell": {
     "cellMetadata": {
      "byteLimit": 2048000,
      "rowLimit": 10000
     },
     "inputWidgets": {},
     "nuid": "e7f6abc7-a9ef-4028-bfa6-e0e78f78f1b6",
     "showTitle": false,
     "tableResultSettingsMap": {},
     "title": ""
    }
   },
   "outputs": [],
   "source": [
    "# Шляхи до папки bronze і silver\n",
    "gold_path = \"/tmp/gold/\"\n",
    "silver_path = \"/tmp/silver/\"\n",
    "\n",
    "ensure_dir_exists(gold_path)"
   ]
  },
  {
   "cell_type": "code",
   "execution_count": 0,
   "metadata": {
    "application/vnd.databricks.v1+cell": {
     "cellMetadata": {
      "byteLimit": 2048000,
      "rowLimit": 10000
     },
     "inputWidgets": {},
     "nuid": "58a79e46-8d5c-4f76-80e2-d4b9c3856e35",
     "showTitle": false,
     "tableResultSettingsMap": {},
     "title": ""
    }
   },
   "outputs": [],
   "source": [
    "# Зчитування таблиць\n",
    "input_path = f\"{silver_path}athlete_bio\"\n",
    "athlete_bio_df = spark.read.parquet(input_path)\n",
    "\n",
    "input_path = f\"{silver_path}athlete_event_results\"\n",
    "athlete_event_results_df = spark.read.parquet(input_path)"
   ]
  },
  {
   "cell_type": "markdown",
   "metadata": {
    "application/vnd.databricks.v1+cell": {
     "cellMetadata": {},
     "inputWidgets": {},
     "nuid": "481c6f81-1045-4138-810b-197d5eeca741",
     "showTitle": false,
     "tableResultSettingsMap": {},
     "title": ""
    }
   },
   "source": [
    "#Об'єднати таблиці за колонкою athlete_id"
   ]
  },
  {
   "cell_type": "code",
   "execution_count": 0,
   "metadata": {
    "application/vnd.databricks.v1+cell": {
     "cellMetadata": {
      "byteLimit": 2048000,
      "rowLimit": 10000
     },
     "inputWidgets": {},
     "nuid": "f2b67988-d018-47fb-8243-83e4412f3bbe",
     "showTitle": false,
     "tableResultSettingsMap": {},
     "title": ""
    }
   },
   "outputs": [
    {
     "output_type": "stream",
     "name": "stdout",
     "output_type": "stream",
     "text": [
      "root\n |-- athlete_id: integer (nullable = true)\n |-- name: string (nullable = true)\n |-- sex: string (nullable = true)\n |-- born: string (nullable = true)\n |-- height: integer (nullable = true)\n |-- weight: string (nullable = true)\n |-- country: string (nullable = true)\n |-- country_noc: string (nullable = true)\n |-- description: string (nullable = true)\n |-- special_notes: string (nullable = true)\n |-- edition: string (nullable = true)\n |-- edition_id: integer (nullable = true)\n |-- sport: string (nullable = true)\n |-- event: string (nullable = true)\n |-- result_id: integer (nullable = true)\n |-- athlete: string (nullable = true)\n |-- pos: string (nullable = true)\n |-- medal: string (nullable = true)\n |-- isTeamSport: boolean (nullable = true)\n\n"
     ]
    }
   ],
   "source": [
    "athlete_event_results_df = athlete_event_results_df.drop(\"country_noc\")\n",
    "\n",
    "joined_df = athlete_bio_df.join(athlete_event_results_df, on=\"athlete_id\", how=\"inner\")\n",
    "joined_df.printSchema()"
   ]
  },
  {
   "cell_type": "markdown",
   "metadata": {
    "application/vnd.databricks.v1+cell": {
     "cellMetadata": {},
     "inputWidgets": {},
     "nuid": "4f35aec0-207e-4767-a406-fdbf22991f5e",
     "showTitle": false,
     "tableResultSettingsMap": {},
     "title": ""
    }
   },
   "source": [
    "#знаходження середнього значення weight і height для комбінації sport, medal, sex, country_noc"
   ]
  },
  {
   "cell_type": "code",
   "execution_count": 0,
   "metadata": {
    "application/vnd.databricks.v1+cell": {
     "cellMetadata": {
      "byteLimit": 2048000,
      "rowLimit": 10000
     },
     "inputWidgets": {},
     "nuid": "c794063b-655a-4476-912d-607f9f32d6ac",
     "showTitle": false,
     "tableResultSettingsMap": {},
     "title": ""
    }
   },
   "outputs": [
    {
     "output_type": "stream",
     "name": "stdout",
     "output_type": "stream",
     "text": [
      "root\n |-- sport: string (nullable = true)\n |-- medal: string (nullable = true)\n |-- sex: string (nullable = true)\n |-- country_noc: string (nullable = true)\n |-- avg_weight: double (nullable = true)\n |-- avg_height: double (nullable = true)\n\n"
     ]
    }
   ],
   "source": [
    "from pyspark.sql.functions import avg\n",
    "from pyspark.sql.functions import round\n",
    "\n",
    "# Групування за комбінацією стовпчиків та обчислення середніх значень weight і height\n",
    "aggregated_df = (\n",
    "    joined_df.groupBy(\"sport\", \"medal\", \"sex\", \"country_noc\")\n",
    "    .agg(\n",
    "        round(avg(\"weight\"), 2).alias(\"avg_weight\"),  # Округлення до 2 знаків\n",
    "        round(avg(\"height\"), 2).alias(\"avg_height\")  # Округлення до 2 знаків\n",
    "    )\n",
    ")\n",
    "\n",
    "aggregated_df.printSchema()"
   ]
  },
  {
   "cell_type": "markdown",
   "metadata": {
    "application/vnd.databricks.v1+cell": {
     "cellMetadata": {},
     "inputWidgets": {},
     "nuid": "eaf2fe9f-17be-4577-a2c2-fefa16ba6aee",
     "showTitle": false,
     "tableResultSettingsMap": {},
     "title": ""
    }
   },
   "source": [
    "#Додати колонку з часовою міткою виконання програми (timestamp)"
   ]
  },
  {
   "cell_type": "code",
   "execution_count": 0,
   "metadata": {
    "application/vnd.databricks.v1+cell": {
     "cellMetadata": {
      "byteLimit": 2048000,
      "rowLimit": 10000
     },
     "inputWidgets": {},
     "nuid": "e7baa5ea-3c72-4a41-9886-e26b6955398e",
     "showTitle": false,
     "tableResultSettingsMap": {},
     "title": ""
    }
   },
   "outputs": [
    {
     "output_type": "stream",
     "name": "stdout",
     "output_type": "stream",
     "text": [
      "root\n |-- sport: string (nullable = true)\n |-- medal: string (nullable = true)\n |-- sex: string (nullable = true)\n |-- country_noc: string (nullable = true)\n |-- avg_weight: double (nullable = true)\n |-- avg_height: double (nullable = true)\n |-- timestamp: timestamp (nullable = false)\n\n"
     ]
    }
   ],
   "source": [
    "from pyspark.sql.functions import current_timestamp\n",
    "\n",
    "# Додавання колонки з часовою міткою\n",
    "avg_stats = aggregated_df.withColumn(\"timestamp\", current_timestamp())\n",
    "\n",
    "# Перегляд результатів\n",
    "avg_stats.printSchema(10)"
   ]
  },
  {
   "cell_type": "markdown",
   "metadata": {
    "application/vnd.databricks.v1+cell": {
     "cellMetadata": {},
     "inputWidgets": {},
     "nuid": "dc046c4f-891f-4178-b3f7-4dc03ebce2be",
     "showTitle": false,
     "tableResultSettingsMap": {},
     "title": ""
    }
   },
   "source": [
    "#Запис даних в gold/avg_stats"
   ]
  },
  {
   "cell_type": "code",
   "execution_count": 0,
   "metadata": {
    "application/vnd.databricks.v1+cell": {
     "cellMetadata": {
      "byteLimit": 2048000,
      "rowLimit": 10000
     },
     "inputWidgets": {},
     "nuid": "359a2073-866e-40c6-95ef-596f93efcb27",
     "showTitle": false,
     "tableResultSettingsMap": {},
     "title": ""
    }
   },
   "outputs": [
    {
     "output_type": "stream",
     "name": "stdout",
     "output_type": "stream",
     "text": [
      "Таблиця збережена в: /tmp/gold/avg_stats\n+------------------+------+------+-----------+----------+----------+-----------------------+\n|sport             |medal |sex   |country_noc|avg_weight|avg_height|timestamp              |\n+------------------+------+------+-----------+----------+----------+-----------------------+\n|IceHockey         |None  |Male  |FIN        |4177.51   |180.79    |2024-12-22 22:03:47.814|\n|Rowing            |None  |Female|CAN        |67.62     |174.71    |2024-12-22 22:03:47.814|\n|Wrestling         |None  |Male  |DEN        |68.32     |169.86    |2024-12-22 22:03:47.814|\n|Fencing           |None  |Male  |POL        |74.17     |179.03    |2024-12-22 22:03:47.814|\n|Football          |None  |Female|BRA        |59.87     |166.86    |2024-12-22 22:03:47.814|\n|Badminton         |None  |Male  |THA        |68.52     |174.96    |2024-12-22 22:03:47.814|\n|Athletics         |None  |Male  |ANG        |65.92     |175.52    |2024-12-22 22:03:47.814|\n|CrossCountrySkiing|None  |Female|USA        |58.26     |166.63    |2024-12-22 22:03:47.814|\n|NordicCombined    |None  |Male  |URS        |67.54     |171.96    |2024-12-22 22:03:47.814|\n|Swimming          |None  |Male  |EGY        |78.6      |182.89    |2024-12-22 22:03:47.814|\n|Athletics         |None  |Female|KOR        |55.71     |164.94    |2024-12-22 22:03:47.814|\n|Wrestling         |Bronze|Male  |PRK        |55.25     |162.5     |2024-12-22 22:03:47.814|\n|Tennis            |Silver|Female|DEN        |NULL      |NULL      |2024-12-22 22:03:47.814|\n|Sailing           |Silver|Male  |FRA        |75.0      |183.5     |2024-12-22 22:03:47.814|\n|EquestrianJumping |None  |Male  |ROU        |65.44     |166.22    |2024-12-22 22:03:47.814|\n|Hockey            |None  |Male  |PAK        |67.58     |173.05    |2024-12-22 22:03:47.814|\n|Diving            |None  |Male  |JPN        |63.08     |169.05    |2024-12-22 22:03:47.814|\n|CanoeSprint       |None  |Female|UKR        |68.7      |170.96    |2024-12-22 22:03:47.814|\n|Wrestling         |None  |Male  |TUN        |86.13     |176.52    |2024-12-22 22:03:47.814|\n|Athletics         |None  |Female|ZAM        |55.43     |163.71    |2024-12-22 22:03:47.814|\n+------------------+------+------+-----------+----------+----------+-----------------------+\nonly showing top 20 rows\n\n"
     ]
    }
   ],
   "source": [
    "    table = 'avg_stats'\n",
    "    output_path = f\"{gold_path}{table}\"\n",
    "    \n",
    "    # Перевірка наявності директорії\n",
    "    ensure_dir_exists(output_path)\n",
    "    \n",
    "    # Збереження у форматі Parquet\n",
    "    avg_stats.write.mode(\"overwrite\").parquet(output_path)\n",
    "    print(f\"Таблиця збережена в: {output_path}\")\n",
    "\n",
    "    # Перепровірка наявності записаного датасету\n",
    "    df = spark.read.parquet(output_path)\n",
    "    df.show(truncate=False)"
   ]
  }
 ],
 "metadata": {
  "application/vnd.databricks.v1+notebook": {
   "computePreferences": null,
   "dashboards": [],
   "environmentMetadata": {
    "base_environment": "",
    "client": "1"
   },
   "language": "python",
   "notebookMetadata": {
    "pythonIndentUnit": 4
   },
   "notebookName": "silver_to_gold",
   "widgets": {}
  }
 },
 "nbformat": 4,
 "nbformat_minor": 0
}
